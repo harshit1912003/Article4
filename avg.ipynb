{
 "cells": [
  {
   "cell_type": "code",
   "execution_count": 1,
   "metadata": {},
   "outputs": [],
   "source": [
    "file = 'iterationsNORMAL/iter_1/data.xlsx'\n"
   ]
  },
  {
   "cell_type": "code",
   "execution_count": 2,
   "metadata": {},
   "outputs": [],
   "source": [
    "import numpy as np\n",
    "import pandas as pd"
   ]
  },
  {
   "cell_type": "code",
   "execution_count": 3,
   "metadata": {},
   "outputs": [],
   "source": [
    "dataX = pd.read_excel(file, sheet_name='x')\n",
    "dataY = pd.read_excel(file, sheet_name='y')"
   ]
  },
  {
   "cell_type": "code",
   "execution_count": 4,
   "metadata": {},
   "outputs": [
    {
     "data": {
      "text/html": [
       "<div>\n",
       "<style scoped>\n",
       "    .dataframe tbody tr th:only-of-type {\n",
       "        vertical-align: middle;\n",
       "    }\n",
       "\n",
       "    .dataframe tbody tr th {\n",
       "        vertical-align: top;\n",
       "    }\n",
       "\n",
       "    .dataframe thead th {\n",
       "        text-align: right;\n",
       "    }\n",
       "</style>\n",
       "<table border=\"1\" class=\"dataframe\">\n",
       "  <thead>\n",
       "    <tr style=\"text-align: right;\">\n",
       "      <th></th>\n",
       "      <th>x1</th>\n",
       "      <th>x2</th>\n",
       "      <th>x3</th>\n",
       "    </tr>\n",
       "  </thead>\n",
       "  <tbody>\n",
       "    <tr>\n",
       "      <th>0</th>\n",
       "      <td>-16.239156</td>\n",
       "      <td>29.345432</td>\n",
       "      <td>32.013937</td>\n",
       "    </tr>\n",
       "    <tr>\n",
       "      <th>1</th>\n",
       "      <td>-27.590186</td>\n",
       "      <td>46.913066</td>\n",
       "      <td>-20.484512</td>\n",
       "    </tr>\n",
       "    <tr>\n",
       "      <th>2</th>\n",
       "      <td>-24.948194</td>\n",
       "      <td>-15.333128</td>\n",
       "      <td>-29.852584</td>\n",
       "    </tr>\n",
       "    <tr>\n",
       "      <th>3</th>\n",
       "      <td>-37.645533</td>\n",
       "      <td>-21.444820</td>\n",
       "      <td>-45.103959</td>\n",
       "    </tr>\n",
       "    <tr>\n",
       "      <th>4</th>\n",
       "      <td>28.817646</td>\n",
       "      <td>-34.272607</td>\n",
       "      <td>-26.831390</td>\n",
       "    </tr>\n",
       "    <tr>\n",
       "      <th>...</th>\n",
       "      <td>...</td>\n",
       "      <td>...</td>\n",
       "      <td>...</td>\n",
       "    </tr>\n",
       "    <tr>\n",
       "      <th>145</th>\n",
       "      <td>-21.103837</td>\n",
       "      <td>-27.248347</td>\n",
       "      <td>25.596694</td>\n",
       "    </tr>\n",
       "    <tr>\n",
       "      <th>146</th>\n",
       "      <td>-23.653543</td>\n",
       "      <td>-30.228683</td>\n",
       "      <td>22.138203</td>\n",
       "    </tr>\n",
       "    <tr>\n",
       "      <th>147</th>\n",
       "      <td>17.570478</td>\n",
       "      <td>22.569782</td>\n",
       "      <td>-20.246856</td>\n",
       "    </tr>\n",
       "    <tr>\n",
       "      <th>148</th>\n",
       "      <td>-32.631387</td>\n",
       "      <td>32.484394</td>\n",
       "      <td>41.072983</td>\n",
       "    </tr>\n",
       "    <tr>\n",
       "      <th>149</th>\n",
       "      <td>19.880108</td>\n",
       "      <td>-13.600688</td>\n",
       "      <td>-15.707317</td>\n",
       "    </tr>\n",
       "  </tbody>\n",
       "</table>\n",
       "<p>150 rows × 3 columns</p>\n",
       "</div>"
      ],
      "text/plain": [
       "            x1         x2         x3\n",
       "0   -16.239156  29.345432  32.013937\n",
       "1   -27.590186  46.913066 -20.484512\n",
       "2   -24.948194 -15.333128 -29.852584\n",
       "3   -37.645533 -21.444820 -45.103959\n",
       "4    28.817646 -34.272607 -26.831390\n",
       "..         ...        ...        ...\n",
       "145 -21.103837 -27.248347  25.596694\n",
       "146 -23.653543 -30.228683  22.138203\n",
       "147  17.570478  22.569782 -20.246856\n",
       "148 -32.631387  32.484394  41.072983\n",
       "149  19.880108 -13.600688 -15.707317\n",
       "\n",
       "[150 rows x 3 columns]"
      ]
     },
     "execution_count": 4,
     "metadata": {},
     "output_type": "execute_result"
    }
   ],
   "source": [
    "dataX"
   ]
  },
  {
   "cell_type": "code",
   "execution_count": 5,
   "metadata": {},
   "outputs": [
    {
     "data": {
      "text/html": [
       "<div>\n",
       "<style scoped>\n",
       "    .dataframe tbody tr th:only-of-type {\n",
       "        vertical-align: middle;\n",
       "    }\n",
       "\n",
       "    .dataframe tbody tr th {\n",
       "        vertical-align: top;\n",
       "    }\n",
       "\n",
       "    .dataframe thead th {\n",
       "        text-align: right;\n",
       "    }\n",
       "</style>\n",
       "<table border=\"1\" class=\"dataframe\">\n",
       "  <thead>\n",
       "    <tr style=\"text-align: right;\">\n",
       "      <th></th>\n",
       "      <th>y1</th>\n",
       "      <th>y2</th>\n",
       "      <th>y3</th>\n",
       "    </tr>\n",
       "  </thead>\n",
       "  <tbody>\n",
       "    <tr>\n",
       "      <th>0</th>\n",
       "      <td>51.087712</td>\n",
       "      <td>15.716740</td>\n",
       "      <td>-17.990056</td>\n",
       "    </tr>\n",
       "    <tr>\n",
       "      <th>1</th>\n",
       "      <td>13.711795</td>\n",
       "      <td>-25.639047</td>\n",
       "      <td>-28.811081</td>\n",
       "    </tr>\n",
       "    <tr>\n",
       "      <th>2</th>\n",
       "      <td>27.800570</td>\n",
       "      <td>38.953211</td>\n",
       "      <td>22.945084</td>\n",
       "    </tr>\n",
       "    <tr>\n",
       "      <th>3</th>\n",
       "      <td>-22.226315</td>\n",
       "      <td>-15.195288</td>\n",
       "      <td>-25.115681</td>\n",
       "    </tr>\n",
       "    <tr>\n",
       "      <th>4</th>\n",
       "      <td>12.109975</td>\n",
       "      <td>-15.533403</td>\n",
       "      <td>-26.717770</td>\n",
       "    </tr>\n",
       "    <tr>\n",
       "      <th>...</th>\n",
       "      <td>...</td>\n",
       "      <td>...</td>\n",
       "      <td>...</td>\n",
       "    </tr>\n",
       "    <tr>\n",
       "      <th>145</th>\n",
       "      <td>-12.957004</td>\n",
       "      <td>0.000000</td>\n",
       "      <td>0.000000</td>\n",
       "    </tr>\n",
       "    <tr>\n",
       "      <th>146</th>\n",
       "      <td>16.819525</td>\n",
       "      <td>0.000000</td>\n",
       "      <td>0.000000</td>\n",
       "    </tr>\n",
       "    <tr>\n",
       "      <th>147</th>\n",
       "      <td>-29.894787</td>\n",
       "      <td>0.000000</td>\n",
       "      <td>0.000000</td>\n",
       "    </tr>\n",
       "    <tr>\n",
       "      <th>148</th>\n",
       "      <td>-35.972963</td>\n",
       "      <td>0.000000</td>\n",
       "      <td>0.000000</td>\n",
       "    </tr>\n",
       "    <tr>\n",
       "      <th>149</th>\n",
       "      <td>38.780713</td>\n",
       "      <td>0.000000</td>\n",
       "      <td>0.000000</td>\n",
       "    </tr>\n",
       "  </tbody>\n",
       "</table>\n",
       "<p>150 rows × 3 columns</p>\n",
       "</div>"
      ],
      "text/plain": [
       "            y1         y2         y3\n",
       "0    51.087712  15.716740 -17.990056\n",
       "1    13.711795 -25.639047 -28.811081\n",
       "2    27.800570  38.953211  22.945084\n",
       "3   -22.226315 -15.195288 -25.115681\n",
       "4    12.109975 -15.533403 -26.717770\n",
       "..         ...        ...        ...\n",
       "145 -12.957004   0.000000   0.000000\n",
       "146  16.819525   0.000000   0.000000\n",
       "147 -29.894787   0.000000   0.000000\n",
       "148 -35.972963   0.000000   0.000000\n",
       "149  38.780713   0.000000   0.000000\n",
       "\n",
       "[150 rows x 3 columns]"
      ]
     },
     "execution_count": 5,
     "metadata": {},
     "output_type": "execute_result"
    }
   ],
   "source": [
    "dataY"
   ]
  },
  {
   "cell_type": "code",
   "execution_count": 6,
   "metadata": {},
   "outputs": [],
   "source": [
    "# Divide dataX and dataY into two groups\n",
    "# Calculate statistics for group 1\n"
   ]
  },
  {
   "cell_type": "code",
   "execution_count": 7,
   "metadata": {},
   "outputs": [],
   "source": [
    "group1_X = dataX.iloc[:100]\n",
    "group2_X = dataX.iloc[100:]\n",
    "\n",
    "group1_Y = dataY.iloc[:100]\n",
    "group2_Y = dataY.iloc[100:]\n",
    "\n"
   ]
  },
  {
   "cell_type": "code",
   "execution_count": 8,
   "metadata": {},
   "outputs": [
    {
     "name": "stdout",
     "output_type": "stream",
     "text": [
      "Group 1 - dataX statistics:\n",
      "             x1         x2         x3\n",
      "mean  -4.397631  -3.764741  -1.620505\n",
      "std   26.431826  26.072578  28.308173\n",
      "min  -44.867636 -45.658954 -45.241513\n",
      "max   45.755971  46.913066  44.319845\n",
      "\n",
      "Group 1 - dataY statistics:\n",
      "             y1         y2         y3\n",
      "mean  -3.757096   0.414510   0.827983\n",
      "std   25.371900  26.640858  25.632630\n",
      "min  -42.208655 -40.474232 -45.975368\n",
      "max   51.087712  46.261802  42.388680\n",
      "\n",
      "Group 2 - dataX statistics:\n",
      "             x1         x2         x3\n",
      "mean   5.127300  -2.041481  -3.498054\n",
      "std   25.799280  25.158077  25.614897\n",
      "min  -42.000377 -38.925203 -36.742290\n",
      "max   41.801089  44.353756  41.072983\n",
      "\n",
      "Group 2 - dataY statistics:\n",
      "             y1   y2   y3\n",
      "mean   1.438199  0.0  0.0\n",
      "std   25.100180  0.0  0.0\n",
      "min  -35.972963  0.0  0.0\n",
      "max   43.428233  0.0  0.0\n"
     ]
    }
   ],
   "source": [
    "stats_group1_X = group1_X.agg(['mean', 'std', 'min', 'max'])\n",
    "stats_group1_Y = group1_Y.agg(['mean', 'std', 'min', 'max'])\n",
    "stats_group2_X = group2_X.agg(['mean', 'std', 'min', 'max'])\n",
    "stats_group2_Y = group2_Y.agg(['mean', 'std', 'min', 'max'])\n",
    "\n",
    "print(\"Group 1 - dataX statistics:\")\n",
    "print(stats_group1_X)\n",
    "\n",
    "print(\"\\nGroup 1 - dataY statistics:\")\n",
    "print(stats_group1_Y)\n",
    "\n",
    "print(\"\\nGroup 2 - dataX statistics:\")\n",
    "print(stats_group2_X)\n",
    "\n",
    "print(\"\\nGroup 2 - dataY statistics:\")\n",
    "print(stats_group2_Y)"
   ]
  },
  {
   "cell_type": "code",
   "execution_count": 10,
   "metadata": {},
   "outputs": [],
   "source": [
    "a1 = np.load('/Users/harshit/Article4/iterationsNORMAL/iter_1/tree/a1.npy', allow_pickle=True)\n",
    "a2 = np.load('/Users/harshit/Article4/iterationsNORMAL/iter_1/tree/a2.npy', allow_pickle=True)\n",
    "dT1 = np.load('/Users/harshit/Article4/iterationsNORMAL/iter_1/tree/d_T1.npy', allow_pickle=True)\n",
    "dT2 = np.load('/Users/harshit/Article4/iterationsNORMAL/iter_1/tree/d_T2.npy', allow_pickle=True)\n"
   ]
  },
  {
   "cell_type": "code",
   "execution_count": 11,
   "metadata": {},
   "outputs": [],
   "source": [
    "import pickle\n",
    "\n",
    "with open('/Users/harshit/Article4/iterationsNORMAL/iter_1/tree/nodes1.pkl', 'rb') as f:\n",
    "    nodes1 = pickle.load(f)\n",
    "\n",
    "with open('/Users/harshit/Article4/iterationsNORMAL/iter_1/tree/nodes2.pkl', 'rb') as f:\n",
    "    nodes2 = pickle.load(f)\n"
   ]
  },
  {
   "cell_type": "code",
   "execution_count": 15,
   "metadata": {},
   "outputs": [
    {
     "data": {
      "text/plain": [
       "(19, 3)"
      ]
     },
     "execution_count": 15,
     "metadata": {},
     "output_type": "execute_result"
    }
   ],
   "source": [
    "a1.shape"
   ]
  },
  {
   "cell_type": "code",
   "execution_count": 14,
   "metadata": {},
   "outputs": [
    {
     "data": {
      "text/plain": [
       "(7, 3)"
      ]
     },
     "execution_count": 14,
     "metadata": {},
     "output_type": "execute_result"
    }
   ],
   "source": [
    "a2.shape"
   ]
  },
  {
   "cell_type": "code",
   "execution_count": 18,
   "metadata": {},
   "outputs": [
    {
     "data": {
      "text/plain": [
       "(19, 3)"
      ]
     },
     "execution_count": 18,
     "metadata": {},
     "output_type": "execute_result"
    }
   ],
   "source": [
    "dT1.shape"
   ]
  },
  {
   "cell_type": "code",
   "execution_count": 19,
   "metadata": {},
   "outputs": [
    {
     "data": {
      "text/plain": [
       "(7, 1)"
      ]
     },
     "execution_count": 19,
     "metadata": {},
     "output_type": "execute_result"
    }
   ],
   "source": [
    "dT2.shape"
   ]
  },
  {
   "cell_type": "code",
   "execution_count": 37,
   "metadata": {},
   "outputs": [
    {
     "data": {
      "text/html": [
       "<div>\n",
       "<style scoped>\n",
       "    .dataframe tbody tr th:only-of-type {\n",
       "        vertical-align: middle;\n",
       "    }\n",
       "\n",
       "    .dataframe tbody tr th {\n",
       "        vertical-align: top;\n",
       "    }\n",
       "\n",
       "    .dataframe thead th {\n",
       "        text-align: right;\n",
       "    }\n",
       "</style>\n",
       "<table border=\"1\" class=\"dataframe\">\n",
       "  <thead>\n",
       "    <tr style=\"text-align: right;\">\n",
       "      <th></th>\n",
       "    </tr>\n",
       "  </thead>\n",
       "  <tbody>\n",
       "  </tbody>\n",
       "</table>\n",
       "</div>"
      ],
      "text/plain": [
       "Empty DataFrame\n",
       "Columns: []\n",
       "Index: []"
      ]
     },
     "execution_count": 37,
     "metadata": {},
     "output_type": "execute_result"
    }
   ],
   "source": [
    "pd.DataFrame()"
   ]
  },
  {
   "cell_type": "code",
   "execution_count": 20,
   "metadata": {},
   "outputs": [
    {
     "data": {
      "text/plain": [
       "{0: [3, 13, 25, 29, 54, 61, 77, 94],\n",
       " 1: [15, 21, 24, 34, 37, 52, 81, 85],\n",
       " 2: [16, 22, 32, 59],\n",
       " 3: [7, 11, 74, 79],\n",
       " 4: [1, 8, 17, 36, 38, 80, 89, 99],\n",
       " 5: [4, 30, 57],\n",
       " 6: [41, 45],\n",
       " 7: [2, 9, 18, 47, 62, 73, 76],\n",
       " 8: [10, 12, 20, 46, 56, 63, 64, 72, 84, 90],\n",
       " 9: [51, 67, 97],\n",
       " 10: [14, 23, 28, 55, 70, 91],\n",
       " 11: [78],\n",
       " 12: [35],\n",
       " 13: [6, 26, 58, 66, 75, 82, 88, 93],\n",
       " 14: [48, 71],\n",
       " 15: [5, 19, 33, 65, 68, 69, 83, 87, 95, 96],\n",
       " 16: [0, 49],\n",
       " 17: [43, 44, 53],\n",
       " 18: [27, 31, 39, 40, 42, 50, 60, 86, 92, 98]}"
      ]
     },
     "execution_count": 20,
     "metadata": {},
     "output_type": "execute_result"
    }
   ],
   "source": [
    "nodes1"
   ]
  },
  {
   "cell_type": "code",
   "execution_count": 21,
   "metadata": {},
   "outputs": [
    {
     "data": {
      "text/plain": [
       "{0: [16, 31, 43],\n",
       " 1: [0, 4, 6, 9, 22, 23, 24, 30],\n",
       " 2: [11, 12, 14, 15, 19, 38, 39, 44, 45, 46],\n",
       " 3: [5, 13, 27, 48],\n",
       " 4: [8, 33, 37, 41, 42],\n",
       " 5: [1, 2, 7, 17, 18, 20, 25, 29, 36, 49],\n",
       " 6: [3, 10, 21, 26, 28, 32, 34, 35, 40, 47]}"
      ]
     },
     "execution_count": 21,
     "metadata": {},
     "output_type": "execute_result"
    }
   ],
   "source": [
    "nodes2 # 50 wala"
   ]
  },
  {
   "cell_type": "code",
   "execution_count": 35,
   "metadata": {},
   "outputs": [],
   "source": [
    "arr = []\n",
    "# for lis in nodes1.values():\n",
    "#     arr.extend(lis)\n",
    "for lis in nodes2.values():\n",
    "    arr.extend(lis)\n",
    "\n",
    "arr.sort()\n"
   ]
  },
  {
   "cell_type": "code",
   "execution_count": 36,
   "metadata": {},
   "outputs": [
    {
     "data": {
      "text/plain": [
       "50"
      ]
     },
     "execution_count": 36,
     "metadata": {},
     "output_type": "execute_result"
    }
   ],
   "source": [
    "len(arr)"
   ]
  },
  {
   "cell_type": "code",
   "execution_count": 34,
   "metadata": {},
   "outputs": [
    {
     "data": {
      "text/plain": [
       "array([[-44.86763588, -45.65895447, -45.24151317],\n",
       "       [-44.86763588, -45.65895447, -35.57197071],\n",
       "       [-44.86763588, -26.79843719, -35.57197071],\n",
       "       [-31.36161033, -26.79843719, -35.57197071],\n",
       "       [-28.25330125, -26.79843719, -35.57197071],\n",
       "       [-25.11169525, -45.65895447, -35.57197071],\n",
       "       [-25.11169525,  29.99980389, -35.57197071],\n",
       "       [-25.11169525, -27.13862343, -35.57197071],\n",
       "       [-25.11169525,   5.64853688, -35.57197071],\n",
       "       [-25.11169525, -45.65895447, -20.90618321],\n",
       "       [-25.11169525, -33.06821675, -20.90618321],\n",
       "       [-25.11169525, -27.1652047 , -20.90618321],\n",
       "       [-23.76716078, -27.1652047 , -20.90618321],\n",
       "       [-23.05797374, -27.1652047 , -20.90618321],\n",
       "       [ 16.6345182 , -27.1652047 , -20.90618321],\n",
       "       [ 24.31972453, -27.1652047 , -20.90618321],\n",
       "       [-44.86763588,  29.34543155,  32.01393713],\n",
       "       [-44.86763588, -45.65895447,  32.01393713],\n",
       "       [-44.86763588, -33.08474911,  32.01393713]])"
      ]
     },
     "execution_count": 34,
     "metadata": {},
     "output_type": "execute_result"
    }
   ],
   "source": [
    "a1"
   ]
  },
  {
   "cell_type": "code",
   "execution_count": 38,
   "metadata": {},
   "outputs": [],
   "source": [
    "df1 = pd.DataFrame(a1, columns=['X1', 'X2', 'X3'], index=pd.Index(range(1, 20), name='leafnode'))\n",
    "df1[['Y1', 'Y2', 'Y3']] = dT1\n",
    "df1['DMUs'] = [ [x + 1 for x in nodes1[i]] for i in range(19)]\n",
    "\n",
    "# DataFrame 2\n",
    "df2 = pd.DataFrame(a2, columns=['X1', 'X2', 'X3'], index=pd.Index(range(1, 8), name='leafnode'))\n",
    "df2['Y1'] = dT2.flatten()\n",
    "df2['DMUs'] = [ [x + 101 for x in nodes2[i]] for i in range(7)]\n"
   ]
  },
  {
   "cell_type": "code",
   "execution_count": 46,
   "metadata": {},
   "outputs": [
    {
     "data": {
      "text/html": [
       "<div>\n",
       "<style scoped>\n",
       "    .dataframe tbody tr th:only-of-type {\n",
       "        vertical-align: middle;\n",
       "    }\n",
       "\n",
       "    .dataframe tbody tr th {\n",
       "        vertical-align: top;\n",
       "    }\n",
       "\n",
       "    .dataframe thead th {\n",
       "        text-align: right;\n",
       "    }\n",
       "</style>\n",
       "<table border=\"1\" class=\"dataframe\">\n",
       "  <thead>\n",
       "    <tr style=\"text-align: right;\">\n",
       "      <th></th>\n",
       "      <th>X1</th>\n",
       "      <th>X2</th>\n",
       "      <th>X3</th>\n",
       "      <th>Y1</th>\n",
       "      <th>DMUs</th>\n",
       "    </tr>\n",
       "    <tr>\n",
       "      <th>leafnode</th>\n",
       "      <th></th>\n",
       "      <th></th>\n",
       "      <th></th>\n",
       "      <th></th>\n",
       "      <th></th>\n",
       "    </tr>\n",
       "  </thead>\n",
       "  <tbody>\n",
       "    <tr>\n",
       "      <th>1</th>\n",
       "      <td>-42.000377</td>\n",
       "      <td>-38.925203</td>\n",
       "      <td>-36.742290</td>\n",
       "      <td>-13.818265</td>\n",
       "      <td>[117, 132, 144]</td>\n",
       "    </tr>\n",
       "    <tr>\n",
       "      <th>2</th>\n",
       "      <td>-42.000377</td>\n",
       "      <td>-21.659687</td>\n",
       "      <td>-36.742290</td>\n",
       "      <td>25.685811</td>\n",
       "      <td>[101, 105, 107, 110, 123, 124, 125, 131]</td>\n",
       "    </tr>\n",
       "    <tr>\n",
       "      <th>3</th>\n",
       "      <td>-42.000377</td>\n",
       "      <td>-38.925203</td>\n",
       "      <td>-25.194243</td>\n",
       "      <td>29.016081</td>\n",
       "      <td>[112, 113, 115, 116, 120, 139, 140, 145, 146, ...</td>\n",
       "    </tr>\n",
       "    <tr>\n",
       "      <th>4</th>\n",
       "      <td>-42.000377</td>\n",
       "      <td>-24.612466</td>\n",
       "      <td>-25.194243</td>\n",
       "      <td>29.016081</td>\n",
       "      <td>[106, 114, 128, 149]</td>\n",
       "    </tr>\n",
       "    <tr>\n",
       "      <th>5</th>\n",
       "      <td>-30.908669</td>\n",
       "      <td>-24.612466</td>\n",
       "      <td>-25.194243</td>\n",
       "      <td>39.035014</td>\n",
       "      <td>[109, 134, 138, 142, 143]</td>\n",
       "    </tr>\n",
       "    <tr>\n",
       "      <th>6</th>\n",
       "      <td>-30.908669</td>\n",
       "      <td>-15.562952</td>\n",
       "      <td>-25.194243</td>\n",
       "      <td>43.385150</td>\n",
       "      <td>[102, 103, 108, 118, 119, 121, 126, 130, 137, ...</td>\n",
       "    </tr>\n",
       "    <tr>\n",
       "      <th>7</th>\n",
       "      <td>-30.908669</td>\n",
       "      <td>17.310887</td>\n",
       "      <td>-25.194243</td>\n",
       "      <td>43.428233</td>\n",
       "      <td>[104, 111, 122, 127, 129, 133, 135, 136, 141, ...</td>\n",
       "    </tr>\n",
       "  </tbody>\n",
       "</table>\n",
       "</div>"
      ],
      "text/plain": [
       "                 X1         X2         X3         Y1  \\\n",
       "leafnode                                               \n",
       "1        -42.000377 -38.925203 -36.742290 -13.818265   \n",
       "2        -42.000377 -21.659687 -36.742290  25.685811   \n",
       "3        -42.000377 -38.925203 -25.194243  29.016081   \n",
       "4        -42.000377 -24.612466 -25.194243  29.016081   \n",
       "5        -30.908669 -24.612466 -25.194243  39.035014   \n",
       "6        -30.908669 -15.562952 -25.194243  43.385150   \n",
       "7        -30.908669  17.310887 -25.194243  43.428233   \n",
       "\n",
       "                                                       DMUs  \n",
       "leafnode                                                     \n",
       "1                                           [117, 132, 144]  \n",
       "2                  [101, 105, 107, 110, 123, 124, 125, 131]  \n",
       "3         [112, 113, 115, 116, 120, 139, 140, 145, 146, ...  \n",
       "4                                      [106, 114, 128, 149]  \n",
       "5                                 [109, 134, 138, 142, 143]  \n",
       "6         [102, 103, 108, 118, 119, 121, 126, 130, 137, ...  \n",
       "7         [104, 111, 122, 127, 129, 133, 135, 136, 141, ...  "
      ]
     },
     "execution_count": 46,
     "metadata": {},
     "output_type": "execute_result"
    }
   ],
   "source": [
    "df2"
   ]
  },
  {
   "cell_type": "code",
   "execution_count": 43,
   "metadata": {},
   "outputs": [
    {
     "data": {
      "text/plain": [
       "{0: [16, 31, 43],\n",
       " 1: [0, 4, 6, 9, 22, 23, 24, 30],\n",
       " 2: [11, 12, 14, 15, 19, 38, 39, 44, 45, 46],\n",
       " 3: [5, 13, 27, 48],\n",
       " 4: [8, 33, 37, 41, 42],\n",
       " 5: [1, 2, 7, 17, 18, 20, 25, 29, 36, 49],\n",
       " 6: [3, 10, 21, 26, 28, 32, 34, 35, 40, 47]}"
      ]
     },
     "execution_count": 43,
     "metadata": {},
     "output_type": "execute_result"
    }
   ],
   "source": [
    "nodes2"
   ]
  },
  {
   "cell_type": "code",
   "execution_count": null,
   "metadata": {},
   "outputs": [],
   "source": []
  }
 ],
 "metadata": {
  "kernelspec": {
   "display_name": "Python 3",
   "language": "python",
   "name": "python3"
  },
  "language_info": {
   "codemirror_mode": {
    "name": "ipython",
    "version": 3
   },
   "file_extension": ".py",
   "mimetype": "text/x-python",
   "name": "python",
   "nbconvert_exporter": "python",
   "pygments_lexer": "ipython3",
   "version": "3.12.7"
  }
 },
 "nbformat": 4,
 "nbformat_minor": 2
}
